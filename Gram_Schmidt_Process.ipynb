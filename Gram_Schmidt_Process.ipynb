{
  "nbformat": 4,
  "nbformat_minor": 0,
  "metadata": {
    "colab": {
      "name": "Gram Schmidt Process.ipynb",
      "provenance": [],
      "authorship_tag": "ABX9TyPFcFF98PYGi17qUKtibosi",
      "include_colab_link": true
    },
    "kernelspec": {
      "name": "python3",
      "display_name": "Python 3"
    },
    "language_info": {
      "name": "python"
    }
  },
  "cells": [
    {
      "cell_type": "markdown",
      "metadata": {
        "id": "view-in-github",
        "colab_type": "text"
      },
      "source": [
        "<a href=\"https://colab.research.google.com/github/CamrynRhude/Linear-Algebra-Coding-projects/blob/main/Gram_Schmidt_Process.ipynb\" target=\"_parent\"><img src=\"https://colab.research.google.com/assets/colab-badge.svg\" alt=\"Open In Colab\"/></a>"
      ]
    },
    {
      "cell_type": "code",
      "execution_count": 1,
      "metadata": {
        "id": "jpjnva3APtD8"
      },
      "outputs": [],
      "source": [
        "import numpy as np\n",
        "from numpy import c_"
      ]
    },
    {
      "cell_type": "code",
      "source": [
        "# write vectors:\n",
        "r1=np.array([3,6,0])\n",
        "r1\n",
        "# dot product of r1 with itself\n",
        "r1.dot(r1)"
      ],
      "metadata": {
        "colab": {
          "base_uri": "https://localhost:8080/"
        },
        "id": "Wuz-BSEnQJ0s",
        "outputId": "a7b4b77b-f35c-4887-aa35-1b573578cd62"
      },
      "execution_count": 7,
      "outputs": [
        {
          "output_type": "execute_result",
          "data": {
            "text/plain": [
              "45"
            ]
          },
          "metadata": {},
          "execution_count": 7
        }
      ]
    },
    {
      "cell_type": "code",
      "source": [
        "np.sqrt(45)"
      ],
      "metadata": {
        "colab": {
          "base_uri": "https://localhost:8080/"
        },
        "id": "pK15iaKWQdF6",
        "outputId": "8eb7b6d6-51da-4f70-bfa7-8ab314d83fa4"
      },
      "execution_count": 8,
      "outputs": [
        {
          "output_type": "execute_result",
          "data": {
            "text/plain": [
              "6.708203932499369"
            ]
          },
          "metadata": {},
          "execution_count": 8
        }
      ]
    },
    {
      "cell_type": "code",
      "source": [
        "print(\"this is the square root of 45:\",np.sqrt(45))"
      ],
      "metadata": {
        "colab": {
          "base_uri": "https://localhost:8080/"
        },
        "id": "Y3NBpdIKSbDA",
        "outputId": "2c1e2a70-f8bf-49fb-a804-ef9607e9296a"
      },
      "execution_count": 9,
      "outputs": [
        {
          "output_type": "stream",
          "name": "stdout",
          "text": [
            "this is the square root of 45: 6.708203932499369\n"
          ]
        }
      ]
    },
    {
      "cell_type": "code",
      "source": [
        "# Gram-Schmidt process using [3,6,0]\n",
        "r1=np.array([3,6,0])\n",
        "print(\"our first messy vector is\",r1)\n",
        "# temporary vector T1\n",
        "T1=r1\n",
        "print (\"our T1 vector is\",r1)\n",
        "# find magnitude of T1\n",
        "n1=np.sqrt(T1.dot(T1))\n",
        "print(\"the size of T1 is T1=\",n1)\n",
        "# renormalize adn create T1\n",
        "u1=(1/n1)*T1\n",
        "print(\"u1=\",u1)"
      ],
      "metadata": {
        "colab": {
          "base_uri": "https://localhost:8080/"
        },
        "id": "ChPF8b5hSq_K",
        "outputId": "5de7e288-a122-4019-b561-ef90b096a253"
      },
      "execution_count": 24,
      "outputs": [
        {
          "output_type": "stream",
          "name": "stdout",
          "text": [
            "our first messy vector is [3 6 0]\n",
            "our T1 vector is [3 6 0]\n",
            "the size of T1 is T1= 6.708203932499369\n",
            "u1= [0.4472136  0.89442719 0.        ]\n"
          ]
        }
      ]
    },
    {
      "cell_type": "code",
      "source": [
        "# Gram-Schmidt process using [6,2,0]\n",
        "r2=np.array([6,2,0])\n",
        "print(\"our 2nd messy vector is\",r2)\n",
        "# temporary vector T2\n",
        "T2= r2-(r2.dot(u1))*u1\n",
        "print (\"our T2 vector is\",T2)\n",
        "# find magnitude of T2\n",
        "n2=np.sqrt(T2.dot(T2))\n",
        "print(\"the size of T2 is T2=\",n2)\n",
        "# renormalize adn create T2\n",
        "u2=(1/n2)*T2\n",
        "print(\"u2=\",u2)"
      ],
      "metadata": {
        "colab": {
          "base_uri": "https://localhost:8080/"
        },
        "id": "807gR4sNS4Sg",
        "outputId": "e7558064-f8b2-45e3-a3f4-c9a626fdb5c4"
      },
      "execution_count": 26,
      "outputs": [
        {
          "output_type": "stream",
          "name": "stdout",
          "text": [
            "our 2nd messy vector is [6 2 0]\n",
            "our T2 vector is [ 4. -2.  0.]\n",
            "the size of T2 is T2= 4.47213595499958\n",
            "u2= [ 0.89442719 -0.4472136   0.        ]\n"
          ]
        }
      ]
    },
    {
      "cell_type": "code",
      "source": [
        "# Gram-Schmidt process using [-4,2,0]\n",
        "r3=np.array([-4,2,0])\n",
        "print(\"our 3rd messy vector is\",r3)\n",
        "# temporary vector T3\n",
        "T3= r3-(r3.dot(u1))*u1-(r3.dot(u2))*u2\n",
        "print (\"our T3 vector is\",T3)\n",
        "# find magnitude of T3\n",
        "n3=np.sqrt(T3.dot(T3))\n",
        "print(\"the size of T3 is T3=\",n3)\n",
        "# renormalize adn create T3\n",
        "u3=(1/n3)*T3\n",
        "print(\"u3=\",u3)"
      ],
      "metadata": {
        "colab": {
          "base_uri": "https://localhost:8080/"
        },
        "id": "HCTcrKnvVybD",
        "outputId": "a2ffb8b2-f203-4483-f350-5ba0e1aab698"
      },
      "execution_count": 27,
      "outputs": [
        {
          "output_type": "stream",
          "name": "stdout",
          "text": [
            "our 3rd messy vector is [-4  2  0]\n",
            "our T3 vector is [-4.4408921e-16 -8.8817842e-16  0.0000000e+00]\n",
            "the size of T3 is T3= 9.930136612989092e-16\n",
            "u3= [-0.4472136  -0.89442719  0.        ]\n"
          ]
        }
      ]
    },
    {
      "cell_type": "code",
      "source": [
        "# Gram-Schmidt process using [3,-4,3]\n",
        "r4=np.array([3,-4,3])\n",
        "print(\"our 4th messy vector is\",r4)\n",
        "# temporary vector T4\n",
        "T4= r4-(r4.dot(u1))*u1-(r4.dot(u2))*u2-(r4.dot(u3))*u3\n",
        "print (\"our T4 vector is\",T4)\n",
        "# find magnitude of T3\n",
        "n4=np.sqrt(T4.dot(T4))\n",
        "print(\"the size of T4 is T4=\",n4)\n",
        "# renormalize adn create T4\n",
        "u4=(1/n4)*T4\n",
        "print(\"u4=\",u4)"
      ],
      "metadata": {
        "colab": {
          "base_uri": "https://localhost:8080/"
        },
        "id": "84syMS3FX8Ov",
        "outputId": "2b5fe058-d40c-479c-cd6e-a14e492a76ca"
      },
      "execution_count": 28,
      "outputs": [
        {
          "output_type": "stream",
          "name": "stdout",
          "text": [
            "our 4th messy vector is [ 3 -4  3]\n",
            "our T4 vector is [1. 2. 3.]\n",
            "the size of T4 is T4= 3.741657386773942\n",
            "u4= [0.26726124 0.53452248 0.80178373]\n"
          ]
        }
      ]
    },
    {
      "cell_type": "code",
      "source": [
        ""
      ],
      "metadata": {
        "id": "5rbfQ-k5YjPK"
      },
      "execution_count": null,
      "outputs": []
    }
  ]
}