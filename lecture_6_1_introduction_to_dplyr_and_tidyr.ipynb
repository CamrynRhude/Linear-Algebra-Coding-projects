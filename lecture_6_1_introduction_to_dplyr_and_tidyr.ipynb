{
  "nbformat": 4,
  "nbformat_minor": 0,
  "metadata": {
    "kernelspec": {
      "display_name": "R",
      "language": "R",
      "name": "ir"
    },
    "language_info": {
      "codemirror_mode": "r",
      "file_extension": ".r",
      "mimetype": "text/x-r-source",
      "name": "R",
      "pygments_lexer": "r",
      "version": "3.5.1"
    },
    "colab": {
      "name": "lecture_6_1_introduction_to_dplyr_and_tidyr.ipynb",
      "provenance": [],
      "include_colab_link": true
    }
  },
  "cells": [
    {
      "cell_type": "markdown",
      "metadata": {
        "id": "view-in-github",
        "colab_type": "text"
      },
      "source": [
        "<a href=\"https://colab.research.google.com/github/CamrynRhude/Linear-Algebra-Coding-projects/blob/main/lecture_6_1_introduction_to_dplyr_and_tidyr.ipynb\" target=\"_parent\"><img src=\"https://colab.research.google.com/assets/colab-badge.svg\" alt=\"Open In Colab\"/></a>"
      ]
    },
    {
      "cell_type": "markdown",
      "metadata": {
        "id": "xwhAe-Auig_9"
      },
      "source": [
        "# Part 1 - Introduction to the `tidyverse` in `R`"
      ]
    },
    {
      "cell_type": "markdown",
      "metadata": {
        "id": "XkwD9qfBihAD"
      },
      "source": [
        "## Why use R?\n",
        "\n",
        "\n",
        "- Save and rerun code\n",
        "- Several data science/statistics packages available\n",
        "- Great graphics\n",
        "- Built for data\n",
        "- Free and open-source\n",
        "- Large user community"
      ]
    },
    {
      "cell_type": "markdown",
      "metadata": {
        "id": "bYHkVIWMihAF"
      },
      "source": [
        "### Market-share\n",
        "\n",
        "![](https://github.com/WSU-DataScience/DSCI_210_R_notebooks/blob/main/img/Fig-1a-IndeedJobs-2017.png?raw=1)"
      ]
    },
    {
      "cell_type": "markdown",
      "metadata": {
        "id": "Kje2BaGPihAG"
      },
      "source": [
        "## What is the `tidyverse`?\n",
        "\n",
        "The tidyverse is a collection of `R` packages designed for data science. They all share an underlying design philosophy, grammar, and data structures. We will focus on a few packages for managing data, using the data verb syntax.\n",
        "*   `dplyr` (`select`, `filter`, `mutate`, `group_by`, `summarize`)\n",
        "* `tidyr` (stack and unstack with `gather` and `spread`)\n",
        "\n",
        "\n",
        "In future data science courses, you will likely use `ggplot`  to create nice graphics.   \n",
        "    "
      ]
    },
    {
      "cell_type": "markdown",
      "metadata": {
        "id": "Q-Vk1RHiihAH"
      },
      "source": [
        "# Introduction to the `dplyr` package in `R`\n",
        "\n",
        "## Loading a Library"
      ]
    },
    {
      "cell_type": "code",
      "metadata": {
        "id": "IkxsiMxsihAH",
        "outputId": "bcb18499-cfe5-4fe9-d54d-5bd9cea441c3",
        "colab": {
          "base_uri": "https://localhost:8080/"
        }
      },
      "source": [
        "# This loads all of the dplyr functions\n",
        "# You must do every time you start new R session\n",
        "\n",
        "library(\"dplyr\")"
      ],
      "execution_count": 1,
      "outputs": [
        {
          "output_type": "stream",
          "name": "stderr",
          "text": [
            "\n",
            "Attaching package: ‘dplyr’\n",
            "\n",
            "\n",
            "The following objects are masked from ‘package:stats’:\n",
            "\n",
            "    filter, lag\n",
            "\n",
            "\n",
            "The following objects are masked from ‘package:base’:\n",
            "\n",
            "    intersect, setdiff, setequal, union\n",
            "\n",
            "\n"
          ]
        }
      ]
    },
    {
      "cell_type": "markdown",
      "metadata": {
        "id": "kOZjy6VJihAK"
      },
      "source": [
        "## Reading in data"
      ]
    },
    {
      "cell_type": "code",
      "metadata": {
        "id": "_KCnzap0ihAM",
        "outputId": "45106103-0fb6-4ba3-d868-6ea4b75853c1",
        "colab": {
          "base_uri": "https://localhost:8080/",
          "height": 412
        }
      },
      "source": [
        "surveys <- read.csv('https://github.com/WSU-DataScience/DSCI_210_R_notebooks/raw/main/data/portal_data_joined.csv')\n",
        "\n",
        "# Good habit: Always inspect the result with head\n",
        "head(surveys,n=10)"
      ],
      "execution_count": 2,
      "outputs": [
        {
          "output_type": "display_data",
          "data": {
            "text/html": [
              "<table class=\"dataframe\">\n",
              "<caption>A data.frame: 10 × 13</caption>\n",
              "<thead>\n",
              "\t<tr><th></th><th scope=col>record_id</th><th scope=col>month</th><th scope=col>day</th><th scope=col>year</th><th scope=col>plot_id</th><th scope=col>species_id</th><th scope=col>sex</th><th scope=col>hindfoot_length</th><th scope=col>weight</th><th scope=col>genus</th><th scope=col>species</th><th scope=col>taxa</th><th scope=col>plot_type</th></tr>\n",
              "\t<tr><th></th><th scope=col>&lt;int&gt;</th><th scope=col>&lt;int&gt;</th><th scope=col>&lt;int&gt;</th><th scope=col>&lt;int&gt;</th><th scope=col>&lt;int&gt;</th><th scope=col>&lt;chr&gt;</th><th scope=col>&lt;chr&gt;</th><th scope=col>&lt;int&gt;</th><th scope=col>&lt;int&gt;</th><th scope=col>&lt;chr&gt;</th><th scope=col>&lt;chr&gt;</th><th scope=col>&lt;chr&gt;</th><th scope=col>&lt;chr&gt;</th></tr>\n",
              "</thead>\n",
              "<tbody>\n",
              "\t<tr><th scope=row>1</th><td>  1</td><td> 7</td><td>16</td><td>1977</td><td>2</td><td>NL</td><td>M</td><td>32</td><td> NA</td><td>Neotoma</td><td>albigula</td><td>Rodent</td><td>Control</td></tr>\n",
              "\t<tr><th scope=row>2</th><td> 72</td><td> 8</td><td>19</td><td>1977</td><td>2</td><td>NL</td><td>M</td><td>31</td><td> NA</td><td>Neotoma</td><td>albigula</td><td>Rodent</td><td>Control</td></tr>\n",
              "\t<tr><th scope=row>3</th><td>224</td><td> 9</td><td>13</td><td>1977</td><td>2</td><td>NL</td><td> </td><td>NA</td><td> NA</td><td>Neotoma</td><td>albigula</td><td>Rodent</td><td>Control</td></tr>\n",
              "\t<tr><th scope=row>4</th><td>266</td><td>10</td><td>16</td><td>1977</td><td>2</td><td>NL</td><td> </td><td>NA</td><td> NA</td><td>Neotoma</td><td>albigula</td><td>Rodent</td><td>Control</td></tr>\n",
              "\t<tr><th scope=row>5</th><td>349</td><td>11</td><td>12</td><td>1977</td><td>2</td><td>NL</td><td> </td><td>NA</td><td> NA</td><td>Neotoma</td><td>albigula</td><td>Rodent</td><td>Control</td></tr>\n",
              "\t<tr><th scope=row>6</th><td>363</td><td>11</td><td>12</td><td>1977</td><td>2</td><td>NL</td><td> </td><td>NA</td><td> NA</td><td>Neotoma</td><td>albigula</td><td>Rodent</td><td>Control</td></tr>\n",
              "\t<tr><th scope=row>7</th><td>435</td><td>12</td><td>10</td><td>1977</td><td>2</td><td>NL</td><td> </td><td>NA</td><td> NA</td><td>Neotoma</td><td>albigula</td><td>Rodent</td><td>Control</td></tr>\n",
              "\t<tr><th scope=row>8</th><td>506</td><td> 1</td><td> 8</td><td>1978</td><td>2</td><td>NL</td><td> </td><td>NA</td><td> NA</td><td>Neotoma</td><td>albigula</td><td>Rodent</td><td>Control</td></tr>\n",
              "\t<tr><th scope=row>9</th><td>588</td><td> 2</td><td>18</td><td>1978</td><td>2</td><td>NL</td><td>M</td><td>NA</td><td>218</td><td>Neotoma</td><td>albigula</td><td>Rodent</td><td>Control</td></tr>\n",
              "\t<tr><th scope=row>10</th><td>661</td><td> 3</td><td>11</td><td>1978</td><td>2</td><td>NL</td><td> </td><td>NA</td><td> NA</td><td>Neotoma</td><td>albigula</td><td>Rodent</td><td>Control</td></tr>\n",
              "</tbody>\n",
              "</table>\n"
            ],
            "text/markdown": "\nA data.frame: 10 × 13\n\n| <!--/--> | record_id &lt;int&gt; | month &lt;int&gt; | day &lt;int&gt; | year &lt;int&gt; | plot_id &lt;int&gt; | species_id &lt;chr&gt; | sex &lt;chr&gt; | hindfoot_length &lt;int&gt; | weight &lt;int&gt; | genus &lt;chr&gt; | species &lt;chr&gt; | taxa &lt;chr&gt; | plot_type &lt;chr&gt; |\n|---|---|---|---|---|---|---|---|---|---|---|---|---|---|\n| 1 |   1 |  7 | 16 | 1977 | 2 | NL | M | 32 |  NA | Neotoma | albigula | Rodent | Control |\n| 2 |  72 |  8 | 19 | 1977 | 2 | NL | M | 31 |  NA | Neotoma | albigula | Rodent | Control |\n| 3 | 224 |  9 | 13 | 1977 | 2 | NL | <!----> | NA |  NA | Neotoma | albigula | Rodent | Control |\n| 4 | 266 | 10 | 16 | 1977 | 2 | NL | <!----> | NA |  NA | Neotoma | albigula | Rodent | Control |\n| 5 | 349 | 11 | 12 | 1977 | 2 | NL | <!----> | NA |  NA | Neotoma | albigula | Rodent | Control |\n| 6 | 363 | 11 | 12 | 1977 | 2 | NL | <!----> | NA |  NA | Neotoma | albigula | Rodent | Control |\n| 7 | 435 | 12 | 10 | 1977 | 2 | NL | <!----> | NA |  NA | Neotoma | albigula | Rodent | Control |\n| 8 | 506 |  1 |  8 | 1978 | 2 | NL | <!----> | NA |  NA | Neotoma | albigula | Rodent | Control |\n| 9 | 588 |  2 | 18 | 1978 | 2 | NL | M | NA | 218 | Neotoma | albigula | Rodent | Control |\n| 10 | 661 |  3 | 11 | 1978 | 2 | NL | <!----> | NA |  NA | Neotoma | albigula | Rodent | Control |\n\n",
            "text/latex": "A data.frame: 10 × 13\n\\begin{tabular}{r|lllllllllllll}\n  & record\\_id & month & day & year & plot\\_id & species\\_id & sex & hindfoot\\_length & weight & genus & species & taxa & plot\\_type\\\\\n  & <int> & <int> & <int> & <int> & <int> & <chr> & <chr> & <int> & <int> & <chr> & <chr> & <chr> & <chr>\\\\\n\\hline\n\t1 &   1 &  7 & 16 & 1977 & 2 & NL & M & 32 &  NA & Neotoma & albigula & Rodent & Control\\\\\n\t2 &  72 &  8 & 19 & 1977 & 2 & NL & M & 31 &  NA & Neotoma & albigula & Rodent & Control\\\\\n\t3 & 224 &  9 & 13 & 1977 & 2 & NL &   & NA &  NA & Neotoma & albigula & Rodent & Control\\\\\n\t4 & 266 & 10 & 16 & 1977 & 2 & NL &   & NA &  NA & Neotoma & albigula & Rodent & Control\\\\\n\t5 & 349 & 11 & 12 & 1977 & 2 & NL &   & NA &  NA & Neotoma & albigula & Rodent & Control\\\\\n\t6 & 363 & 11 & 12 & 1977 & 2 & NL &   & NA &  NA & Neotoma & albigula & Rodent & Control\\\\\n\t7 & 435 & 12 & 10 & 1977 & 2 & NL &   & NA &  NA & Neotoma & albigula & Rodent & Control\\\\\n\t8 & 506 &  1 &  8 & 1978 & 2 & NL &   & NA &  NA & Neotoma & albigula & Rodent & Control\\\\\n\t9 & 588 &  2 & 18 & 1978 & 2 & NL & M & NA & 218 & Neotoma & albigula & Rodent & Control\\\\\n\t10 & 661 &  3 & 11 & 1978 & 2 & NL &   & NA &  NA & Neotoma & albigula & Rodent & Control\\\\\n\\end{tabular}\n",
            "text/plain": [
              "   record_id month day year plot_id species_id sex hindfoot_length weight\n",
              "1    1        7    16  1977 2       NL         M   32               NA   \n",
              "2   72        8    19  1977 2       NL         M   31               NA   \n",
              "3  224        9    13  1977 2       NL             NA               NA   \n",
              "4  266       10    16  1977 2       NL             NA               NA   \n",
              "5  349       11    12  1977 2       NL             NA               NA   \n",
              "6  363       11    12  1977 2       NL             NA               NA   \n",
              "7  435       12    10  1977 2       NL             NA               NA   \n",
              "8  506        1     8  1978 2       NL             NA               NA   \n",
              "9  588        2    18  1978 2       NL         M   NA              218   \n",
              "10 661        3    11  1978 2       NL             NA               NA   \n",
              "   genus   species  taxa   plot_type\n",
              "1  Neotoma albigula Rodent Control  \n",
              "2  Neotoma albigula Rodent Control  \n",
              "3  Neotoma albigula Rodent Control  \n",
              "4  Neotoma albigula Rodent Control  \n",
              "5  Neotoma albigula Rodent Control  \n",
              "6  Neotoma albigula Rodent Control  \n",
              "7  Neotoma albigula Rodent Control  \n",
              "8  Neotoma albigula Rodent Control  \n",
              "9  Neotoma albigula Rodent Control  \n",
              "10 Neotoma albigula Rodent Control  "
            ]
          },
          "metadata": {}
        }
      ]
    },
    {
      "cell_type": "markdown",
      "metadata": {
        "id": "vpquI1Z0ihAP"
      },
      "source": [
        "## Selecting columns with `select`"
      ]
    },
    {
      "cell_type": "code",
      "metadata": {
        "id": "dBpF4II8ihAQ"
      },
      "source": [
        "# Syntax: select(df, col1, col2, ...)\n",
        "\n",
        "new_df <- select(surveys, plot_id, species_id, weight)\n",
        "head(new_df)"
      ],
      "execution_count": null,
      "outputs": []
    },
    {
      "cell_type": "markdown",
      "metadata": {
        "id": "uBl321xOihAR"
      },
      "source": [
        "## Filtering rows with `filter`"
      ]
    },
    {
      "cell_type": "code",
      "metadata": {
        "id": "hxCIwG7uihAR"
      },
      "source": [
        "new_df2 <- filter(surveys, year == 1995)\n",
        "head(new_df2)"
      ],
      "execution_count": null,
      "outputs": []
    },
    {
      "cell_type": "markdown",
      "metadata": {
        "id": "h5E13Zc1-lb4"
      },
      "source": [
        "*Question: Why are the columns not selected up above still appearing here?*"
      ]
    },
    {
      "cell_type": "markdown",
      "metadata": {
        "id": "sBixZKVhihAS"
      },
      "source": [
        "## Creating a new column with `mutate`"
      ]
    },
    {
      "cell_type": "code",
      "metadata": {
        "id": "j9rFCK9LihAS"
      },
      "source": [
        "new_df <- select(surveys, plot_id, species_id, weight, year)\n",
        "new_df2 <- filter(new_df, year == 1995)\n",
        "new_df3 <- mutate(new_df2, weight_kg = weight / 1000)\n",
        "head(new_df3)"
      ],
      "execution_count": null,
      "outputs": []
    },
    {
      "cell_type": "code",
      "metadata": {
        "id": "-bkGoN2RihAT"
      },
      "source": [
        "# To drop the old weight column:\n",
        "\n",
        "new_df4 <- select(new_df3, -weight)\n",
        "head(new_df4)"
      ],
      "execution_count": null,
      "outputs": []
    },
    {
      "cell_type": "markdown",
      "metadata": {
        "id": "a7kWqyk1ihAT"
      },
      "source": [
        "## Motivating pipes\n",
        "\n",
        "The pipe, `%>%`, is a powerful tool for clearly expressing a sequence of multiple operations. Before we explore using the pipe with `dplyr` functions, let's look at some alternatives.\n",
        "\n",
        "### Alternative #1: Imperative coding pattern - save, save, save!\n",
        "\n",
        "\n",
        "<img width=\"450\" src=\"https://github.com/WSU-DataScience/DSCI_210_R_notebooks/blob/main/img/imperative_pattern.png?raw=1\">\n",
        "\n",
        "This works, but it's not the best approach.\n",
        "- **Problem 1:** Creates lots of temporary variables \n",
        "- **Problem 2:** Messy and lots of overhead\n",
        "\n",
        "All the extra *stuff* clouds the meaning/intent of the code!"
      ]
    },
    {
      "cell_type": "markdown",
      "metadata": {
        "id": "jQOVwFjUihAU"
      },
      "source": [
        "### Alternative #2 - Rewrite to the same data frame\n",
        "\n",
        "Instead of creating new objects at each step, we could just overwrite the original:"
      ]
    },
    {
      "cell_type": "markdown",
      "metadata": {
        "id": "wZX-_XkIihAU"
      },
      "source": [
        "```{R}\n",
        "surveys <- select(surveys, plot_id, species_id, weight, year)\n",
        "surveys <- filter(surveys, year == 1995)\n",
        "surveys <- mutate(surveys, weight_kg = weight / 1000)\n",
        "```"
      ]
    },
    {
      "cell_type": "markdown",
      "metadata": {
        "id": "dRmKchEUihAU"
      },
      "source": [
        "**Problem:** This approach obscures what's changing on each line.\n",
        "\n"
      ]
    },
    {
      "cell_type": "markdown",
      "metadata": {
        "id": "z82-lT7DPbUq"
      },
      "source": [
        "### Alternative #3 - Functional coding approach\n",
        "\n",
        "This approach just strings the function calls together:"
      ]
    },
    {
      "cell_type": "code",
      "metadata": {
        "id": "TLCT5OPKPtVb"
      },
      "source": [
        "surveys2 <-\n",
        "select(\n",
        "  filter(\n",
        "    mutate(surveys,\n",
        "      weight_kg = weight / 1000), \n",
        "    year == 1995), \n",
        "  plot_id, species_id, weight, year)\n",
        "  head(surveys)"
      ],
      "execution_count": null,
      "outputs": []
    },
    {
      "cell_type": "markdown",
      "metadata": {
        "id": "9IqZoSH3Qyd5"
      },
      "source": [
        "**Problem:** We have to read from inside-out and from right to left. This is difficult to understand!"
      ]
    },
    {
      "cell_type": "markdown",
      "metadata": {
        "id": "L6JI11XYihAV"
      },
      "source": [
        "### The fix: use a pipe for cleaner code\n",
        "\n",
        "The pipe helps us write code in a way that is easier to read and understand. The pipe pushes the data frame through the first position:\n",
        "\n",
        "<img width=\"350\" src=\"https://github.com/WSU-DataScience/DSCI_210_R_notebooks/blob/main/img/pipe1.png?raw=1\">"
      ]
    },
    {
      "cell_type": "markdown",
      "metadata": {
        "id": "03qpYyALihAV"
      },
      "source": [
        "Imagine an invisible data frame in the first spot... but don't write it!\n",
        "\n",
        "<img width=\"350\" src=\"https://github.com/WSU-DataScience/DSCI_210_R_notebooks/blob/main/img/pipe2.png?raw=1\">"
      ]
    },
    {
      "cell_type": "markdown",
      "metadata": {
        "id": "nZPoPz9PihAV"
      },
      "source": [
        "Note this important point - each data frame is NEW when you use the pipe.\n",
        "\n",
        "\\\\\n",
        "\n",
        "### The code with pipes - much cleaner!\n",
        "The code shown below uses the pipe with `dplyr` functions. The advantage is that we are now focusing on the data verbs!"
      ]
    },
    {
      "cell_type": "code",
      "metadata": {
        "id": "O9fIZX35ihAW"
      },
      "source": [
        "surveys  %>% \n",
        "  select(plot_id, species_id, weight, year) %>%\n",
        "  filter(year == 1995) %>%\n",
        "  mutate(weight_kg = weight / 1000) %>%\n",
        "  head()"
      ],
      "execution_count": null,
      "outputs": []
    },
    {
      "cell_type": "markdown",
      "metadata": {
        "id": "CElG_Cc0ihAW"
      },
      "source": [
        "### My preferred code format"
      ]
    },
    {
      "cell_type": "code",
      "metadata": {
        "id": "YH8_tXU1ihAX"
      },
      "source": [
        "(surveys  \n",
        " %>% select(plot_id, species_id, weight, year) \n",
        " %>% filter(year == 1995) \n",
        " %>% mutate(weight_kg = weight / 1000) \n",
        " %>% head()\n",
        ")"
      ],
      "execution_count": null,
      "outputs": []
    },
    {
      "cell_type": "markdown",
      "metadata": {
        "id": "gDSuiTyVihAX"
      },
      "source": [
        "## <font color=\"red\"> Exercise 1 </font>\n",
        "\n",
        "Write code using `dplyr` with pipes to perform the following tasks.\n",
        "\n",
        "1. Compute the weight of all species in lbs.\n",
        "2. Filter out the rows containing only weights (in lbs) greater than 0.2 lbs."
      ]
    },
    {
      "cell_type": "code",
      "metadata": {
        "id": "0wNj1orvihAX",
        "outputId": "1469f996-fd36-44fe-94f7-ce885d50430e",
        "colab": {
          "base_uri": "https://localhost:8080/",
          "height": 286
        }
      },
      "source": [
        "# Your code for task 1 here\n",
        "surveys %>% mutate(weight_lbs =weight*.002205)%>% head\n"
      ],
      "execution_count": 4,
      "outputs": [
        {
          "output_type": "display_data",
          "data": {
            "text/html": [
              "<table class=\"dataframe\">\n",
              "<caption>A data.frame: 6 × 14</caption>\n",
              "<thead>\n",
              "\t<tr><th></th><th scope=col>record_id</th><th scope=col>month</th><th scope=col>day</th><th scope=col>year</th><th scope=col>plot_id</th><th scope=col>species_id</th><th scope=col>sex</th><th scope=col>hindfoot_length</th><th scope=col>weight</th><th scope=col>genus</th><th scope=col>species</th><th scope=col>taxa</th><th scope=col>plot_type</th><th scope=col>weight_lbs</th></tr>\n",
              "\t<tr><th></th><th scope=col>&lt;int&gt;</th><th scope=col>&lt;int&gt;</th><th scope=col>&lt;int&gt;</th><th scope=col>&lt;int&gt;</th><th scope=col>&lt;int&gt;</th><th scope=col>&lt;chr&gt;</th><th scope=col>&lt;chr&gt;</th><th scope=col>&lt;int&gt;</th><th scope=col>&lt;int&gt;</th><th scope=col>&lt;chr&gt;</th><th scope=col>&lt;chr&gt;</th><th scope=col>&lt;chr&gt;</th><th scope=col>&lt;chr&gt;</th><th scope=col>&lt;dbl&gt;</th></tr>\n",
              "</thead>\n",
              "<tbody>\n",
              "\t<tr><th scope=row>1</th><td>  1</td><td> 7</td><td>16</td><td>1977</td><td>2</td><td>NL</td><td>M</td><td>32</td><td>NA</td><td>Neotoma</td><td>albigula</td><td>Rodent</td><td>Control</td><td>NA</td></tr>\n",
              "\t<tr><th scope=row>2</th><td> 72</td><td> 8</td><td>19</td><td>1977</td><td>2</td><td>NL</td><td>M</td><td>31</td><td>NA</td><td>Neotoma</td><td>albigula</td><td>Rodent</td><td>Control</td><td>NA</td></tr>\n",
              "\t<tr><th scope=row>3</th><td>224</td><td> 9</td><td>13</td><td>1977</td><td>2</td><td>NL</td><td> </td><td>NA</td><td>NA</td><td>Neotoma</td><td>albigula</td><td>Rodent</td><td>Control</td><td>NA</td></tr>\n",
              "\t<tr><th scope=row>4</th><td>266</td><td>10</td><td>16</td><td>1977</td><td>2</td><td>NL</td><td> </td><td>NA</td><td>NA</td><td>Neotoma</td><td>albigula</td><td>Rodent</td><td>Control</td><td>NA</td></tr>\n",
              "\t<tr><th scope=row>5</th><td>349</td><td>11</td><td>12</td><td>1977</td><td>2</td><td>NL</td><td> </td><td>NA</td><td>NA</td><td>Neotoma</td><td>albigula</td><td>Rodent</td><td>Control</td><td>NA</td></tr>\n",
              "\t<tr><th scope=row>6</th><td>363</td><td>11</td><td>12</td><td>1977</td><td>2</td><td>NL</td><td> </td><td>NA</td><td>NA</td><td>Neotoma</td><td>albigula</td><td>Rodent</td><td>Control</td><td>NA</td></tr>\n",
              "</tbody>\n",
              "</table>\n"
            ],
            "text/markdown": "\nA data.frame: 6 × 14\n\n| <!--/--> | record_id &lt;int&gt; | month &lt;int&gt; | day &lt;int&gt; | year &lt;int&gt; | plot_id &lt;int&gt; | species_id &lt;chr&gt; | sex &lt;chr&gt; | hindfoot_length &lt;int&gt; | weight &lt;int&gt; | genus &lt;chr&gt; | species &lt;chr&gt; | taxa &lt;chr&gt; | plot_type &lt;chr&gt; | weight_lbs &lt;dbl&gt; |\n|---|---|---|---|---|---|---|---|---|---|---|---|---|---|---|\n| 1 |   1 |  7 | 16 | 1977 | 2 | NL | M | 32 | NA | Neotoma | albigula | Rodent | Control | NA |\n| 2 |  72 |  8 | 19 | 1977 | 2 | NL | M | 31 | NA | Neotoma | albigula | Rodent | Control | NA |\n| 3 | 224 |  9 | 13 | 1977 | 2 | NL | <!----> | NA | NA | Neotoma | albigula | Rodent | Control | NA |\n| 4 | 266 | 10 | 16 | 1977 | 2 | NL | <!----> | NA | NA | Neotoma | albigula | Rodent | Control | NA |\n| 5 | 349 | 11 | 12 | 1977 | 2 | NL | <!----> | NA | NA | Neotoma | albigula | Rodent | Control | NA |\n| 6 | 363 | 11 | 12 | 1977 | 2 | NL | <!----> | NA | NA | Neotoma | albigula | Rodent | Control | NA |\n\n",
            "text/latex": "A data.frame: 6 × 14\n\\begin{tabular}{r|llllllllllllll}\n  & record\\_id & month & day & year & plot\\_id & species\\_id & sex & hindfoot\\_length & weight & genus & species & taxa & plot\\_type & weight\\_lbs\\\\\n  & <int> & <int> & <int> & <int> & <int> & <chr> & <chr> & <int> & <int> & <chr> & <chr> & <chr> & <chr> & <dbl>\\\\\n\\hline\n\t1 &   1 &  7 & 16 & 1977 & 2 & NL & M & 32 & NA & Neotoma & albigula & Rodent & Control & NA\\\\\n\t2 &  72 &  8 & 19 & 1977 & 2 & NL & M & 31 & NA & Neotoma & albigula & Rodent & Control & NA\\\\\n\t3 & 224 &  9 & 13 & 1977 & 2 & NL &   & NA & NA & Neotoma & albigula & Rodent & Control & NA\\\\\n\t4 & 266 & 10 & 16 & 1977 & 2 & NL &   & NA & NA & Neotoma & albigula & Rodent & Control & NA\\\\\n\t5 & 349 & 11 & 12 & 1977 & 2 & NL &   & NA & NA & Neotoma & albigula & Rodent & Control & NA\\\\\n\t6 & 363 & 11 & 12 & 1977 & 2 & NL &   & NA & NA & Neotoma & albigula & Rodent & Control & NA\\\\\n\\end{tabular}\n",
            "text/plain": [
              "  record_id month day year plot_id species_id sex hindfoot_length weight\n",
              "1   1        7    16  1977 2       NL         M   32              NA    \n",
              "2  72        8    19  1977 2       NL         M   31              NA    \n",
              "3 224        9    13  1977 2       NL             NA              NA    \n",
              "4 266       10    16  1977 2       NL             NA              NA    \n",
              "5 349       11    12  1977 2       NL             NA              NA    \n",
              "6 363       11    12  1977 2       NL             NA              NA    \n",
              "  genus   species  taxa   plot_type weight_lbs\n",
              "1 Neotoma albigula Rodent Control   NA        \n",
              "2 Neotoma albigula Rodent Control   NA        \n",
              "3 Neotoma albigula Rodent Control   NA        \n",
              "4 Neotoma albigula Rodent Control   NA        \n",
              "5 Neotoma albigula Rodent Control   NA        \n",
              "6 Neotoma albigula Rodent Control   NA        "
            ]
          },
          "metadata": {}
        }
      ]
    },
    {
      "cell_type": "code",
      "metadata": {
        "id": "HtLCA6C7ihAY",
        "outputId": "e2049ade-fd26-4a93-f663-fce4df6b9091",
        "colab": {
          "base_uri": "https://localhost:8080/",
          "height": 412
        }
      },
      "source": [
        "# Your code for task 2 here\n",
        "\n",
        "surveys %>% mutate(weight_lbs =weight*.002205)%>% filter(weight_lbs >.2) %>% head(n=10)\n"
      ],
      "execution_count": 5,
      "outputs": [
        {
          "output_type": "display_data",
          "data": {
            "text/html": [
              "<table class=\"dataframe\">\n",
              "<caption>A data.frame: 10 × 14</caption>\n",
              "<thead>\n",
              "\t<tr><th></th><th scope=col>record_id</th><th scope=col>month</th><th scope=col>day</th><th scope=col>year</th><th scope=col>plot_id</th><th scope=col>species_id</th><th scope=col>sex</th><th scope=col>hindfoot_length</th><th scope=col>weight</th><th scope=col>genus</th><th scope=col>species</th><th scope=col>taxa</th><th scope=col>plot_type</th><th scope=col>weight_lbs</th></tr>\n",
              "\t<tr><th></th><th scope=col>&lt;int&gt;</th><th scope=col>&lt;int&gt;</th><th scope=col>&lt;int&gt;</th><th scope=col>&lt;int&gt;</th><th scope=col>&lt;int&gt;</th><th scope=col>&lt;chr&gt;</th><th scope=col>&lt;chr&gt;</th><th scope=col>&lt;int&gt;</th><th scope=col>&lt;int&gt;</th><th scope=col>&lt;chr&gt;</th><th scope=col>&lt;chr&gt;</th><th scope=col>&lt;chr&gt;</th><th scope=col>&lt;chr&gt;</th><th scope=col>&lt;dbl&gt;</th></tr>\n",
              "</thead>\n",
              "<tbody>\n",
              "\t<tr><th scope=row>1</th><td> 588</td><td> 2</td><td>18</td><td>1978</td><td>2</td><td>NL</td><td>M</td><td>NA</td><td>218</td><td>Neotoma</td><td>albigula</td><td>Rodent</td><td>Control</td><td>0.480690</td></tr>\n",
              "\t<tr><th scope=row>2</th><td> 845</td><td> 5</td><td> 6</td><td>1978</td><td>2</td><td>NL</td><td>M</td><td>32</td><td>204</td><td>Neotoma</td><td>albigula</td><td>Rodent</td><td>Control</td><td>0.449820</td></tr>\n",
              "\t<tr><th scope=row>3</th><td> 990</td><td> 6</td><td> 9</td><td>1978</td><td>2</td><td>NL</td><td>M</td><td>NA</td><td>200</td><td>Neotoma</td><td>albigula</td><td>Rodent</td><td>Control</td><td>0.441000</td></tr>\n",
              "\t<tr><th scope=row>4</th><td>1164</td><td> 8</td><td> 5</td><td>1978</td><td>2</td><td>NL</td><td>M</td><td>34</td><td>199</td><td>Neotoma</td><td>albigula</td><td>Rodent</td><td>Control</td><td>0.438795</td></tr>\n",
              "\t<tr><th scope=row>5</th><td>1261</td><td> 9</td><td> 4</td><td>1978</td><td>2</td><td>NL</td><td>M</td><td>32</td><td>197</td><td>Neotoma</td><td>albigula</td><td>Rodent</td><td>Control</td><td>0.434385</td></tr>\n",
              "\t<tr><th scope=row>6</th><td>1453</td><td>11</td><td> 5</td><td>1978</td><td>2</td><td>NL</td><td>M</td><td>NA</td><td>218</td><td>Neotoma</td><td>albigula</td><td>Rodent</td><td>Control</td><td>0.480690</td></tr>\n",
              "\t<tr><th scope=row>7</th><td>1756</td><td> 4</td><td>29</td><td>1979</td><td>2</td><td>NL</td><td>M</td><td>33</td><td>166</td><td>Neotoma</td><td>albigula</td><td>Rodent</td><td>Control</td><td>0.366030</td></tr>\n",
              "\t<tr><th scope=row>8</th><td>1818</td><td> 5</td><td>30</td><td>1979</td><td>2</td><td>NL</td><td>M</td><td>32</td><td>184</td><td>Neotoma</td><td>albigula</td><td>Rodent</td><td>Control</td><td>0.405720</td></tr>\n",
              "\t<tr><th scope=row>9</th><td>1882</td><td> 7</td><td> 4</td><td>1979</td><td>2</td><td>NL</td><td>M</td><td>32</td><td>206</td><td>Neotoma</td><td>albigula</td><td>Rodent</td><td>Control</td><td>0.454230</td></tr>\n",
              "\t<tr><th scope=row>10</th><td>2133</td><td>10</td><td>25</td><td>1979</td><td>2</td><td>NL</td><td>F</td><td>33</td><td>274</td><td>Neotoma</td><td>albigula</td><td>Rodent</td><td>Control</td><td>0.604170</td></tr>\n",
              "</tbody>\n",
              "</table>\n"
            ],
            "text/markdown": "\nA data.frame: 10 × 14\n\n| <!--/--> | record_id &lt;int&gt; | month &lt;int&gt; | day &lt;int&gt; | year &lt;int&gt; | plot_id &lt;int&gt; | species_id &lt;chr&gt; | sex &lt;chr&gt; | hindfoot_length &lt;int&gt; | weight &lt;int&gt; | genus &lt;chr&gt; | species &lt;chr&gt; | taxa &lt;chr&gt; | plot_type &lt;chr&gt; | weight_lbs &lt;dbl&gt; |\n|---|---|---|---|---|---|---|---|---|---|---|---|---|---|---|\n| 1 |  588 |  2 | 18 | 1978 | 2 | NL | M | NA | 218 | Neotoma | albigula | Rodent | Control | 0.480690 |\n| 2 |  845 |  5 |  6 | 1978 | 2 | NL | M | 32 | 204 | Neotoma | albigula | Rodent | Control | 0.449820 |\n| 3 |  990 |  6 |  9 | 1978 | 2 | NL | M | NA | 200 | Neotoma | albigula | Rodent | Control | 0.441000 |\n| 4 | 1164 |  8 |  5 | 1978 | 2 | NL | M | 34 | 199 | Neotoma | albigula | Rodent | Control | 0.438795 |\n| 5 | 1261 |  9 |  4 | 1978 | 2 | NL | M | 32 | 197 | Neotoma | albigula | Rodent | Control | 0.434385 |\n| 6 | 1453 | 11 |  5 | 1978 | 2 | NL | M | NA | 218 | Neotoma | albigula | Rodent | Control | 0.480690 |\n| 7 | 1756 |  4 | 29 | 1979 | 2 | NL | M | 33 | 166 | Neotoma | albigula | Rodent | Control | 0.366030 |\n| 8 | 1818 |  5 | 30 | 1979 | 2 | NL | M | 32 | 184 | Neotoma | albigula | Rodent | Control | 0.405720 |\n| 9 | 1882 |  7 |  4 | 1979 | 2 | NL | M | 32 | 206 | Neotoma | albigula | Rodent | Control | 0.454230 |\n| 10 | 2133 | 10 | 25 | 1979 | 2 | NL | F | 33 | 274 | Neotoma | albigula | Rodent | Control | 0.604170 |\n\n",
            "text/latex": "A data.frame: 10 × 14\n\\begin{tabular}{r|llllllllllllll}\n  & record\\_id & month & day & year & plot\\_id & species\\_id & sex & hindfoot\\_length & weight & genus & species & taxa & plot\\_type & weight\\_lbs\\\\\n  & <int> & <int> & <int> & <int> & <int> & <chr> & <chr> & <int> & <int> & <chr> & <chr> & <chr> & <chr> & <dbl>\\\\\n\\hline\n\t1 &  588 &  2 & 18 & 1978 & 2 & NL & M & NA & 218 & Neotoma & albigula & Rodent & Control & 0.480690\\\\\n\t2 &  845 &  5 &  6 & 1978 & 2 & NL & M & 32 & 204 & Neotoma & albigula & Rodent & Control & 0.449820\\\\\n\t3 &  990 &  6 &  9 & 1978 & 2 & NL & M & NA & 200 & Neotoma & albigula & Rodent & Control & 0.441000\\\\\n\t4 & 1164 &  8 &  5 & 1978 & 2 & NL & M & 34 & 199 & Neotoma & albigula & Rodent & Control & 0.438795\\\\\n\t5 & 1261 &  9 &  4 & 1978 & 2 & NL & M & 32 & 197 & Neotoma & albigula & Rodent & Control & 0.434385\\\\\n\t6 & 1453 & 11 &  5 & 1978 & 2 & NL & M & NA & 218 & Neotoma & albigula & Rodent & Control & 0.480690\\\\\n\t7 & 1756 &  4 & 29 & 1979 & 2 & NL & M & 33 & 166 & Neotoma & albigula & Rodent & Control & 0.366030\\\\\n\t8 & 1818 &  5 & 30 & 1979 & 2 & NL & M & 32 & 184 & Neotoma & albigula & Rodent & Control & 0.405720\\\\\n\t9 & 1882 &  7 &  4 & 1979 & 2 & NL & M & 32 & 206 & Neotoma & albigula & Rodent & Control & 0.454230\\\\\n\t10 & 2133 & 10 & 25 & 1979 & 2 & NL & F & 33 & 274 & Neotoma & albigula & Rodent & Control & 0.604170\\\\\n\\end{tabular}\n",
            "text/plain": [
              "   record_id month day year plot_id species_id sex hindfoot_length weight\n",
              "1   588       2    18  1978 2       NL         M   NA              218   \n",
              "2   845       5     6  1978 2       NL         M   32              204   \n",
              "3   990       6     9  1978 2       NL         M   NA              200   \n",
              "4  1164       8     5  1978 2       NL         M   34              199   \n",
              "5  1261       9     4  1978 2       NL         M   32              197   \n",
              "6  1453      11     5  1978 2       NL         M   NA              218   \n",
              "7  1756       4    29  1979 2       NL         M   33              166   \n",
              "8  1818       5    30  1979 2       NL         M   32              184   \n",
              "9  1882       7     4  1979 2       NL         M   32              206   \n",
              "10 2133      10    25  1979 2       NL         F   33              274   \n",
              "   genus   species  taxa   plot_type weight_lbs\n",
              "1  Neotoma albigula Rodent Control   0.480690  \n",
              "2  Neotoma albigula Rodent Control   0.449820  \n",
              "3  Neotoma albigula Rodent Control   0.441000  \n",
              "4  Neotoma albigula Rodent Control   0.438795  \n",
              "5  Neotoma albigula Rodent Control   0.434385  \n",
              "6  Neotoma albigula Rodent Control   0.480690  \n",
              "7  Neotoma albigula Rodent Control   0.366030  \n",
              "8  Neotoma albigula Rodent Control   0.405720  \n",
              "9  Neotoma albigula Rodent Control   0.454230  \n",
              "10 Neotoma albigula Rodent Control   0.604170  "
            ]
          },
          "metadata": {}
        }
      ]
    },
    {
      "cell_type": "markdown",
      "metadata": {
        "id": "OVpLbMkLihAY"
      },
      "source": [
        "\\\\\n",
        "# Part 2 - Converting code and types of errors"
      ]
    },
    {
      "cell_type": "markdown",
      "metadata": {
        "id": "9wdw6CclihAY"
      },
      "source": [
        "## You've seen piping before...\n",
        " \n",
        "<img width=\"850\" src=\"https://github.com/thooks630/DSCI_210_R_notebooks/raw/main/img/openrefine_piping.PNG\">"
      ]
    },
    {
      "cell_type": "markdown",
      "metadata": {
        "id": "s-MfMel7ihAY"
      },
      "source": [
        "## Saving the result of a piped operation"
      ]
    },
    {
      "cell_type": "code",
      "metadata": {
        "id": "W2eiFV5XUkLK"
      },
      "source": [
        "surveys_small <- \n",
        "(surveys \n",
        "  %>% filter(weight < 5) \n",
        "  %>% select(species_id, sex, weight)\n",
        ")\n",
        "\n",
        "head(surveys_small)"
      ],
      "execution_count": null,
      "outputs": []
    },
    {
      "cell_type": "markdown",
      "metadata": {
        "id": "OrXpJg4eihAZ"
      },
      "source": [
        "## A recap - the advantages of piping\n",
        "\n",
        "* Reads left-to-right\n",
        "* Reads top-to-bottom\n",
        "* Focuses on verbs\n",
        "* Removes pointless nouns"
      ]
    },
    {
      "cell_type": "markdown",
      "metadata": {
        "id": "eDcLOKxhihAZ"
      },
      "source": [
        "## Comparing three different coding approaches\n",
        "\n",
        "* Imperative\n",
        "* Functional\n",
        "* Piping"
      ]
    },
    {
      "cell_type": "markdown",
      "metadata": {
        "id": "9Gt9GQNBihAZ"
      },
      "source": [
        "### Imperative:"
      ]
    },
    {
      "cell_type": "code",
      "metadata": {
        "id": "QHkno9_zihAa"
      },
      "source": [
        "x <- pi\n",
        "r_x <- round(x, 2)\n",
        "c_x <- as.character(r_x)\n",
        "c_x"
      ],
      "execution_count": null,
      "outputs": []
    },
    {
      "cell_type": "markdown",
      "metadata": {
        "id": "oPHoXGtIihAa"
      },
      "source": [
        "### Functional:"
      ]
    },
    {
      "cell_type": "code",
      "metadata": {
        "id": "DRD7lBqyihAa"
      },
      "source": [
        "as.character(round(pi,2))"
      ],
      "execution_count": null,
      "outputs": []
    },
    {
      "cell_type": "markdown",
      "metadata": {
        "id": "jQHLv4TQihAa"
      },
      "source": [
        "### Piping:"
      ]
    },
    {
      "cell_type": "code",
      "metadata": {
        "id": "DnoK1CJnihAb"
      },
      "source": [
        "pi %>%\n",
        "  round(2) %>%\n",
        "  as.character"
      ],
      "execution_count": null,
      "outputs": []
    },
    {
      "cell_type": "markdown",
      "metadata": {
        "id": "mG0w_dvMihAb"
      },
      "source": [
        "## Example 1 - converting to pipes"
      ]
    },
    {
      "cell_type": "code",
      "metadata": {
        "id": "DcF7RDyvihAb"
      },
      "source": [
        "surveys_small <- filter(surveys, weight < 5) \n",
        "survey_small_id_sex_wgt <- select(surveys_small, species_id, sex, weight)\n",
        "head(survey_small_id_sex_wgt)"
      ],
      "execution_count": null,
      "outputs": []
    },
    {
      "cell_type": "code",
      "metadata": {
        "id": "6mcgQ3ogihAb"
      },
      "source": [
        "# Convert to piped code\n",
        "surveys %>%\n",
        "filter(weight < 5) %>%\n",
        "select(species_id, sex, weight) %>%\n",
        "head"
      ],
      "execution_count": null,
      "outputs": []
    },
    {
      "cell_type": "markdown",
      "metadata": {
        "id": "9lDTzww9ihAb"
      },
      "source": [
        "## Example 2 - converting to imperative approach"
      ]
    },
    {
      "cell_type": "code",
      "metadata": {
        "id": "cqcujEKSihAb"
      },
      "source": [
        "surveys_small <- surveys %>%\n",
        "  filter(species_id == 'NL') %>%\n",
        "  select(species_id, sex, weight)\n",
        "\n",
        "head(surveys_small)"
      ],
      "execution_count": null,
      "outputs": []
    },
    {
      "cell_type": "code",
      "metadata": {
        "id": "mvkpAMgxihAc"
      },
      "source": [
        "# Convert to imperative\n",
        "surveys_small <- filter(surveys, species_id == \"NL\")\n",
        "surveys_small2 <- select(surveys_small, species_id, sex, weight)\n",
        "head(surveys_small2)\n",
        "\n"
      ],
      "execution_count": null,
      "outputs": []
    },
    {
      "cell_type": "markdown",
      "metadata": {
        "id": "i9xSkGA1ihAc"
      },
      "source": [
        "## Example 3 - converting to functional approach"
      ]
    },
    {
      "cell_type": "code",
      "metadata": {
        "id": "VBnzmc5ZihAc"
      },
      "source": [
        "surveys_small <- surveys %>%\n",
        "  filter(weight < 5) %>%\n",
        "  select(species_id, sex, weight)\n",
        "\n",
        "head(surveys_small)"
      ],
      "execution_count": null,
      "outputs": []
    },
    {
      "cell_type": "code",
      "metadata": {
        "id": "sYI4AJ9MihAd"
      },
      "source": [
        "# Convert to functional\n",
        "head(select(filter(surveys, weight < 5), species_id, sex, weight))"
      ],
      "execution_count": null,
      "outputs": []
    },
    {
      "cell_type": "markdown",
      "metadata": {
        "id": "ysPH1OJEihAd"
      },
      "source": [
        "## <font color=\"red\"> Exercise 2 </font>\n",
        "\n",
        "Perform each of the following code conversions."
      ]
    },
    {
      "cell_type": "code",
      "metadata": {
        "id": "c--UUpl4ihAd",
        "outputId": "624ad5bb-d439-49ed-e81a-f06c9c31fac3",
        "colab": {
          "base_uri": "https://localhost:8080/",
          "height": 224
        }
      },
      "source": [
        "sales <- read.csv('https://github.com/WSU-DataScience/DSCI_210_R_notebooks/raw/main/data/auto_sales.csv')\n",
        "head(sales)"
      ],
      "execution_count": 6,
      "outputs": [
        {
          "output_type": "display_data",
          "data": {
            "text/html": [
              "<table class=\"dataframe\">\n",
              "<caption>A data.frame: 4 × 5</caption>\n",
              "<thead>\n",
              "\t<tr><th></th><th scope=col>Salesperson</th><th scope=col>Compact</th><th scope=col>Sedan</th><th scope=col>SUV</th><th scope=col>Truck</th></tr>\n",
              "\t<tr><th></th><th scope=col>&lt;chr&gt;</th><th scope=col>&lt;int&gt;</th><th scope=col>&lt;int&gt;</th><th scope=col>&lt;int&gt;</th><th scope=col>&lt;int&gt;</th></tr>\n",
              "</thead>\n",
              "<tbody>\n",
              "\t<tr><th scope=row>1</th><td>Ann    </td><td>22</td><td>18</td><td>15</td><td>12</td></tr>\n",
              "\t<tr><th scope=row>2</th><td>Bob    </td><td>19</td><td>12</td><td>17</td><td>20</td></tr>\n",
              "\t<tr><th scope=row>3</th><td>Yolanda</td><td>19</td><td> 8</td><td>32</td><td>15</td></tr>\n",
              "\t<tr><th scope=row>4</th><td>Xerxes </td><td>12</td><td>23</td><td>18</td><td> 9</td></tr>\n",
              "</tbody>\n",
              "</table>\n"
            ],
            "text/markdown": "\nA data.frame: 4 × 5\n\n| <!--/--> | Salesperson &lt;chr&gt; | Compact &lt;int&gt; | Sedan &lt;int&gt; | SUV &lt;int&gt; | Truck &lt;int&gt; |\n|---|---|---|---|---|---|\n| 1 | Ann     | 22 | 18 | 15 | 12 |\n| 2 | Bob     | 19 | 12 | 17 | 20 |\n| 3 | Yolanda | 19 |  8 | 32 | 15 |\n| 4 | Xerxes  | 12 | 23 | 18 |  9 |\n\n",
            "text/latex": "A data.frame: 4 × 5\n\\begin{tabular}{r|lllll}\n  & Salesperson & Compact & Sedan & SUV & Truck\\\\\n  & <chr> & <int> & <int> & <int> & <int>\\\\\n\\hline\n\t1 & Ann     & 22 & 18 & 15 & 12\\\\\n\t2 & Bob     & 19 & 12 & 17 & 20\\\\\n\t3 & Yolanda & 19 &  8 & 32 & 15\\\\\n\t4 & Xerxes  & 12 & 23 & 18 &  9\\\\\n\\end{tabular}\n",
            "text/plain": [
              "  Salesperson Compact Sedan SUV Truck\n",
              "1 Ann         22      18    15  12   \n",
              "2 Bob         19      12    17  20   \n",
              "3 Yolanda     19       8    32  15   \n",
              "4 Xerxes      12      23    18   9   "
            ]
          },
          "metadata": {}
        }
      ]
    },
    {
      "cell_type": "markdown",
      "metadata": {
        "id": "wLkmIHr8ihAd"
      },
      "source": [
        "#### <font color=\"red\">TASK 1</font>. Convert the following *piped code* to the *imperative style*"
      ]
    },
    {
      "cell_type": "code",
      "metadata": {
        "id": "GNpFwdAjihAe"
      },
      "source": [
        "sales %>%\n",
        "    select(Salesperson, Compact, Sedan) %>%\n",
        "    mutate(Car = Compact + Sedan) "
      ],
      "execution_count": null,
      "outputs": []
    },
    {
      "cell_type": "code",
      "metadata": {
        "id": "LufAaHWfihAe",
        "outputId": "d773868e-d802-43e2-bd12-2f448802cc7f",
        "colab": {
          "base_uri": "https://localhost:8080/",
          "height": 224
        }
      },
      "source": [
        "# Your code here (using imperative approach)\n",
        "sales2 <- select(sales, Salesperson,Compact,Sedan)\n",
        "sales3 <- mutate(sales2, Car=Compact+Sedan)\n",
        "head(sales3)"
      ],
      "execution_count": 8,
      "outputs": [
        {
          "output_type": "display_data",
          "data": {
            "text/html": [
              "<table class=\"dataframe\">\n",
              "<caption>A data.frame: 4 × 4</caption>\n",
              "<thead>\n",
              "\t<tr><th></th><th scope=col>Salesperson</th><th scope=col>Compact</th><th scope=col>Sedan</th><th scope=col>Car</th></tr>\n",
              "\t<tr><th></th><th scope=col>&lt;chr&gt;</th><th scope=col>&lt;int&gt;</th><th scope=col>&lt;int&gt;</th><th scope=col>&lt;int&gt;</th></tr>\n",
              "</thead>\n",
              "<tbody>\n",
              "\t<tr><th scope=row>1</th><td>Ann    </td><td>22</td><td>18</td><td>40</td></tr>\n",
              "\t<tr><th scope=row>2</th><td>Bob    </td><td>19</td><td>12</td><td>31</td></tr>\n",
              "\t<tr><th scope=row>3</th><td>Yolanda</td><td>19</td><td> 8</td><td>27</td></tr>\n",
              "\t<tr><th scope=row>4</th><td>Xerxes </td><td>12</td><td>23</td><td>35</td></tr>\n",
              "</tbody>\n",
              "</table>\n"
            ],
            "text/markdown": "\nA data.frame: 4 × 4\n\n| <!--/--> | Salesperson &lt;chr&gt; | Compact &lt;int&gt; | Sedan &lt;int&gt; | Car &lt;int&gt; |\n|---|---|---|---|---|\n| 1 | Ann     | 22 | 18 | 40 |\n| 2 | Bob     | 19 | 12 | 31 |\n| 3 | Yolanda | 19 |  8 | 27 |\n| 4 | Xerxes  | 12 | 23 | 35 |\n\n",
            "text/latex": "A data.frame: 4 × 4\n\\begin{tabular}{r|llll}\n  & Salesperson & Compact & Sedan & Car\\\\\n  & <chr> & <int> & <int> & <int>\\\\\n\\hline\n\t1 & Ann     & 22 & 18 & 40\\\\\n\t2 & Bob     & 19 & 12 & 31\\\\\n\t3 & Yolanda & 19 &  8 & 27\\\\\n\t4 & Xerxes  & 12 & 23 & 35\\\\\n\\end{tabular}\n",
            "text/plain": [
              "  Salesperson Compact Sedan Car\n",
              "1 Ann         22      18    40 \n",
              "2 Bob         19      12    31 \n",
              "3 Yolanda     19       8    27 \n",
              "4 Xerxes      12      23    35 "
            ]
          },
          "metadata": {}
        }
      ]
    },
    {
      "cell_type": "markdown",
      "metadata": {
        "id": "RL1MTMBKihAe"
      },
      "source": [
        "#### <font color=\"red\">TASK 2</font>. Convert the following *imperative code* to the *piped style*"
      ]
    },
    {
      "cell_type": "code",
      "metadata": {
        "id": "dUKg0E_zihAe",
        "outputId": "3ff252d6-ab74-44bf-da14-3c5ddd4f1b3c",
        "colab": {
          "base_uri": "https://localhost:8080/",
          "height": 224
        }
      },
      "source": [
        "df2 <- mutate(sales, Car = Compact + Sedan)\n",
        "df3 <- mutate(df2, Utility = SUV + Truck)\n",
        "df4 <- select(df3, Salesperson, Car, Utility)\n",
        "head(df4)"
      ],
      "execution_count": 13,
      "outputs": [
        {
          "output_type": "display_data",
          "data": {
            "text/html": [
              "<table class=\"dataframe\">\n",
              "<caption>A data.frame: 4 × 3</caption>\n",
              "<thead>\n",
              "\t<tr><th></th><th scope=col>Salesperson</th><th scope=col>Car</th><th scope=col>Utility</th></tr>\n",
              "\t<tr><th></th><th scope=col>&lt;chr&gt;</th><th scope=col>&lt;int&gt;</th><th scope=col>&lt;int&gt;</th></tr>\n",
              "</thead>\n",
              "<tbody>\n",
              "\t<tr><th scope=row>1</th><td>Ann    </td><td>40</td><td>27</td></tr>\n",
              "\t<tr><th scope=row>2</th><td>Bob    </td><td>31</td><td>37</td></tr>\n",
              "\t<tr><th scope=row>3</th><td>Yolanda</td><td>27</td><td>47</td></tr>\n",
              "\t<tr><th scope=row>4</th><td>Xerxes </td><td>35</td><td>27</td></tr>\n",
              "</tbody>\n",
              "</table>\n"
            ],
            "text/markdown": "\nA data.frame: 4 × 3\n\n| <!--/--> | Salesperson &lt;chr&gt; | Car &lt;int&gt; | Utility &lt;int&gt; |\n|---|---|---|---|\n| 1 | Ann     | 40 | 27 |\n| 2 | Bob     | 31 | 37 |\n| 3 | Yolanda | 27 | 47 |\n| 4 | Xerxes  | 35 | 27 |\n\n",
            "text/latex": "A data.frame: 4 × 3\n\\begin{tabular}{r|lll}\n  & Salesperson & Car & Utility\\\\\n  & <chr> & <int> & <int>\\\\\n\\hline\n\t1 & Ann     & 40 & 27\\\\\n\t2 & Bob     & 31 & 37\\\\\n\t3 & Yolanda & 27 & 47\\\\\n\t4 & Xerxes  & 35 & 27\\\\\n\\end{tabular}\n",
            "text/plain": [
              "  Salesperson Car Utility\n",
              "1 Ann         40  27     \n",
              "2 Bob         31  37     \n",
              "3 Yolanda     27  47     \n",
              "4 Xerxes      35  27     "
            ]
          },
          "metadata": {}
        }
      ]
    },
    {
      "cell_type": "code",
      "metadata": {
        "id": "00T9PwNHihAe",
        "outputId": "4b9c209f-e5bb-41dd-ec68-0f42a36e8505",
        "colab": {
          "base_uri": "https://localhost:8080/",
          "height": 224
        }
      },
      "source": [
        "# Your code here\n",
        "sales %>%\n",
        "mutate(Car = Compact + Sedan) %>% \n",
        "mutate(Utility = SUV + Truck) %>% \n",
        "select(Salesperson, Car, Utility)\n"
      ],
      "execution_count": 16,
      "outputs": [
        {
          "output_type": "display_data",
          "data": {
            "text/html": [
              "<table class=\"dataframe\">\n",
              "<caption>A data.frame: 4 × 3</caption>\n",
              "<thead>\n",
              "\t<tr><th scope=col>Salesperson</th><th scope=col>Car</th><th scope=col>Utility</th></tr>\n",
              "\t<tr><th scope=col>&lt;chr&gt;</th><th scope=col>&lt;int&gt;</th><th scope=col>&lt;int&gt;</th></tr>\n",
              "</thead>\n",
              "<tbody>\n",
              "\t<tr><td>Ann    </td><td>40</td><td>27</td></tr>\n",
              "\t<tr><td>Bob    </td><td>31</td><td>37</td></tr>\n",
              "\t<tr><td>Yolanda</td><td>27</td><td>47</td></tr>\n",
              "\t<tr><td>Xerxes </td><td>35</td><td>27</td></tr>\n",
              "</tbody>\n",
              "</table>\n"
            ],
            "text/markdown": "\nA data.frame: 4 × 3\n\n| Salesperson &lt;chr&gt; | Car &lt;int&gt; | Utility &lt;int&gt; |\n|---|---|---|\n| Ann     | 40 | 27 |\n| Bob     | 31 | 37 |\n| Yolanda | 27 | 47 |\n| Xerxes  | 35 | 27 |\n\n",
            "text/latex": "A data.frame: 4 × 3\n\\begin{tabular}{lll}\n Salesperson & Car & Utility\\\\\n <chr> & <int> & <int>\\\\\n\\hline\n\t Ann     & 40 & 27\\\\\n\t Bob     & 31 & 37\\\\\n\t Yolanda & 27 & 47\\\\\n\t Xerxes  & 35 & 27\\\\\n\\end{tabular}\n",
            "text/plain": [
              "  Salesperson Car Utility\n",
              "1 Ann         40  27     \n",
              "2 Bob         31  37     \n",
              "3 Yolanda     27  47     \n",
              "4 Xerxes      35  27     "
            ]
          },
          "metadata": {}
        }
      ]
    },
    {
      "cell_type": "markdown",
      "metadata": {
        "id": "CyILabYJihAf"
      },
      "source": [
        "## Types of programming errors\n",
        "\n",
        "* Name errors\n",
        "* Syntax errors\n",
        "* Semantic errors (hardest/worst)"
      ]
    },
    {
      "cell_type": "markdown",
      "metadata": {
        "id": "D5hwQuIkihAf"
      },
      "source": [
        "### Name Errors - Using the wrong name"
      ]
    },
    {
      "cell_type": "code",
      "metadata": {
        "id": "zDKam4WgihAf",
        "outputId": "23129f45-8605-4bee-8768-636b6ef568b2",
        "colab": {
          "base_uri": "https://localhost:8080/",
          "height": 224
        }
      },
      "source": [
        "sales <- read.csv('https://github.com/WSU-DataScience/DSCI_210_R_notebooks/raw/main/data/auto_sales.csv')\n",
        "head(sales)"
      ],
      "execution_count": 15,
      "outputs": [
        {
          "output_type": "display_data",
          "data": {
            "text/html": [
              "<table class=\"dataframe\">\n",
              "<caption>A data.frame: 4 × 5</caption>\n",
              "<thead>\n",
              "\t<tr><th></th><th scope=col>Salesperson</th><th scope=col>Compact</th><th scope=col>Sedan</th><th scope=col>SUV</th><th scope=col>Truck</th></tr>\n",
              "\t<tr><th></th><th scope=col>&lt;chr&gt;</th><th scope=col>&lt;int&gt;</th><th scope=col>&lt;int&gt;</th><th scope=col>&lt;int&gt;</th><th scope=col>&lt;int&gt;</th></tr>\n",
              "</thead>\n",
              "<tbody>\n",
              "\t<tr><th scope=row>1</th><td>Ann    </td><td>22</td><td>18</td><td>15</td><td>12</td></tr>\n",
              "\t<tr><th scope=row>2</th><td>Bob    </td><td>19</td><td>12</td><td>17</td><td>20</td></tr>\n",
              "\t<tr><th scope=row>3</th><td>Yolanda</td><td>19</td><td> 8</td><td>32</td><td>15</td></tr>\n",
              "\t<tr><th scope=row>4</th><td>Xerxes </td><td>12</td><td>23</td><td>18</td><td> 9</td></tr>\n",
              "</tbody>\n",
              "</table>\n"
            ],
            "text/markdown": "\nA data.frame: 4 × 5\n\n| <!--/--> | Salesperson &lt;chr&gt; | Compact &lt;int&gt; | Sedan &lt;int&gt; | SUV &lt;int&gt; | Truck &lt;int&gt; |\n|---|---|---|---|---|---|\n| 1 | Ann     | 22 | 18 | 15 | 12 |\n| 2 | Bob     | 19 | 12 | 17 | 20 |\n| 3 | Yolanda | 19 |  8 | 32 | 15 |\n| 4 | Xerxes  | 12 | 23 | 18 |  9 |\n\n",
            "text/latex": "A data.frame: 4 × 5\n\\begin{tabular}{r|lllll}\n  & Salesperson & Compact & Sedan & SUV & Truck\\\\\n  & <chr> & <int> & <int> & <int> & <int>\\\\\n\\hline\n\t1 & Ann     & 22 & 18 & 15 & 12\\\\\n\t2 & Bob     & 19 & 12 & 17 & 20\\\\\n\t3 & Yolanda & 19 &  8 & 32 & 15\\\\\n\t4 & Xerxes  & 12 & 23 & 18 &  9\\\\\n\\end{tabular}\n",
            "text/plain": [
              "  Salesperson Compact Sedan SUV Truck\n",
              "1 Ann         22      18    15  12   \n",
              "2 Bob         19      12    17  20   \n",
              "3 Yolanda     19       8    32  15   \n",
              "4 Xerxes      12      23    18   9   "
            ]
          },
          "metadata": {}
        }
      ]
    },
    {
      "cell_type": "code",
      "metadata": {
        "scrolled": true,
        "id": "A9NCyTe6ihAf"
      },
      "source": [
        "# Find the name errors\n",
        "sales %>%\n",
        "  select(Salesperson, Sedan)"
      ],
      "execution_count": null,
      "outputs": []
    },
    {
      "cell_type": "markdown",
      "metadata": {
        "id": "XpUWZTfuihAf"
      },
      "source": [
        "### Syntax errors - Incorrect syntax"
      ]
    },
    {
      "cell_type": "code",
      "metadata": {
        "id": "tVE82GRdihAf"
      },
      "source": [
        "head(sales)"
      ],
      "execution_count": null,
      "outputs": []
    },
    {
      "cell_type": "code",
      "metadata": {
        "id": "2eA_sSdOihAg"
      },
      "source": [
        "# Find the syntax errors\n",
        "sales %>%\n",
        "  mutate(monthly_sedan = Sedan/3,\n",
        "         monthly_suv = SUV/3,\n",
        "         monthly_truck = Truck/3)"
      ],
      "execution_count": null,
      "outputs": []
    },
    {
      "cell_type": "markdown",
      "metadata": {
        "id": "o9xtnhjiihAg"
      },
      "source": [
        "### Semantic Errors - Correct code, wrong meaning"
      ]
    },
    {
      "cell_type": "code",
      "metadata": {
        "id": "EFbYXnbmihAg"
      },
      "source": [
        "# Find the semantic errors\n",
        "sales %>%\n",
        "  group_by(Salesperson) %>%\n",
        "  mutate(avg_sedan = median(Truck))"
      ],
      "execution_count": null,
      "outputs": []
    },
    {
      "cell_type": "markdown",
      "metadata": {
        "id": "0WD7nCLEihAg"
      },
      "source": [
        "## <font color=\"red\"> Exercise 3 </font>\n",
        "\n",
        "Identify all of the errors in the following code and classify each as either a name, syntax, or semantic error."
      ]
    },
    {
      "cell_type": "code",
      "metadata": {
        "id": "M_Nz8AxKihAh"
      },
      "source": [
        "sales %>%\n",
        "    mutate(Car = Compact + Sedan) %>%\n",
        "    mutate(Utility = SUV * Truck) "
      ],
      "execution_count": null,
      "outputs": []
    },
    {
      "cell_type": "markdown",
      "metadata": {
        "id": "gc9uYcNAihAh"
      },
      "source": [
        "> Your answer here"
      ]
    }
  ]
}